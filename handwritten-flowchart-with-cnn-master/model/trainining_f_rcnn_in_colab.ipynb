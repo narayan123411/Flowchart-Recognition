{
  "nbformat": 4,
  "nbformat_minor": 0,
  "metadata": {
    "colab": {
      "name": "trainining_f_rcnn.ipynb",
      "provenance": [],
      "collapsed_sections": []
    },
    "kernelspec": {
      "name": "python3",
      "display_name": "Python 3"
    }
  },
  "cells": [
    {
      "cell_type": "code",
      "metadata": {
        "id": "u6vZ_8SgpuRc",
        "colab_type": "code",
        "colab": {}
      },
      "source": [
        "# Activate and mount Google Drive\n",
        "from google.colab import drive\n",
        "drive.mount('/content/drive')"
      ],
      "execution_count": null,
      "outputs": []
    },
    {
      "cell_type": "code",
      "metadata": {
        "id": "NQ4W7_hmMHfs",
        "colab_type": "code",
        "colab": {}
      },
      "source": [
        "# Change dir \n",
        "%cd drive/My\\ Drive/0_TT/TT2/Modelo\\ de\\ figuras/model_code_vgg16/\n"
      ],
      "execution_count": null,
      "outputs": []
    },
    {
      "cell_type": "code",
      "metadata": {
        "id": "9U4D-D4eM9b4",
        "colab_type": "code",
        "colab": {}
      },
      "source": [
        "# Start training process\n",
        "!python3 shape_model.py"
      ],
      "execution_count": null,
      "outputs": []
    },
    {
      "cell_type": "code",
      "metadata": {
        "id": "UUVzPl3tsC_4",
        "colab_type": "code",
        "colab": {}
      },
      "source": [
        "# If the training has been truncated:\n",
        "#  > Update the train2.py file (change index at for loop and better loss)\n",
        "#  > Run this cell +)\n",
        "!python3 train2.py"
      ],
      "execution_count": null,
      "outputs": []
    }
  ]
}
